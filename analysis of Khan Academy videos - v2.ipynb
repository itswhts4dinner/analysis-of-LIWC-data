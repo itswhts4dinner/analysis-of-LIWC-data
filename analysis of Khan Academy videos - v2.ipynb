{
 "cells": [
  {
   "cell_type": "code",
   "execution_count": 1,
   "metadata": {},
   "outputs": [],
   "source": [
    "import pandas as pd\n",
    "from glob import glob\n",
    "import numpy as np"
   ]
  },
  {
   "cell_type": "code",
   "execution_count": 16,
   "metadata": {},
   "outputs": [
    {
     "data": {
      "text/plain": [
       "['Khan_Academy_Biology.csv',\n",
       " 'Khan_Academy_Chemistry.csv',\n",
       " 'Khan_Academy_Physics.csv',\n",
       " 'Physics_Girl.csv',\n",
       " 'Veritasium.csv']"
      ]
     },
     "execution_count": 16,
     "metadata": {},
     "output_type": "execute_result"
    }
   ],
   "source": [
    "all_my_data = sorted(glob('*.csv',recursive=True))\n",
    "all_my_data"
   ]
  },
  {
   "cell_type": "code",
   "execution_count": null,
   "metadata": {},
   "outputs": [],
   "source": []
  },
  {
   "cell_type": "code",
   "execution_count": 17,
   "metadata": {},
   "outputs": [],
   "source": [
    "LIWC_data = pd.concat((pd.read_csv(file).assign(channel_name=file)\n",
    "          for file in all_my_data))"
   ]
  },
  {
   "cell_type": "code",
   "execution_count": 18,
   "metadata": {},
   "outputs": [
    {
     "data": {
      "text/html": [
       "<div>\n",
       "<style scoped>\n",
       "    .dataframe tbody tr th:only-of-type {\n",
       "        vertical-align: middle;\n",
       "    }\n",
       "\n",
       "    .dataframe tbody tr th {\n",
       "        vertical-align: top;\n",
       "    }\n",
       "\n",
       "    .dataframe thead th {\n",
       "        text-align: right;\n",
       "    }\n",
       "</style>\n",
       "<table border=\"1\" class=\"dataframe\">\n",
       "  <thead>\n",
       "    <tr style=\"text-align: right;\">\n",
       "      <th></th>\n",
       "      <th>Filename</th>\n",
       "      <th>Segment</th>\n",
       "      <th>WC</th>\n",
       "      <th>Analytic</th>\n",
       "      <th>Clout</th>\n",
       "      <th>Authentic</th>\n",
       "      <th>Tone</th>\n",
       "      <th>WPS</th>\n",
       "      <th>Sixltr</th>\n",
       "      <th>Dic</th>\n",
       "      <th>...</th>\n",
       "      <th>Colon</th>\n",
       "      <th>SemiC</th>\n",
       "      <th>QMark</th>\n",
       "      <th>Exclam</th>\n",
       "      <th>Dash</th>\n",
       "      <th>Quote</th>\n",
       "      <th>Apostro</th>\n",
       "      <th>Parenth</th>\n",
       "      <th>OtherP</th>\n",
       "      <th>channel_name</th>\n",
       "    </tr>\n",
       "  </thead>\n",
       "  <tbody>\n",
       "    <tr>\n",
       "      <th>0</th>\n",
       "      <td>20150714.Saturated fats, unsaturated fats, and...</td>\n",
       "      <td>1</td>\n",
       "      <td>1802</td>\n",
       "      <td>19.33</td>\n",
       "      <td>77.14</td>\n",
       "      <td>18.13</td>\n",
       "      <td>37.55</td>\n",
       "      <td>1802.0</td>\n",
       "      <td>13.87</td>\n",
       "      <td>84.68</td>\n",
       "      <td>...</td>\n",
       "      <td>0.11</td>\n",
       "      <td>0.0</td>\n",
       "      <td>0.0</td>\n",
       "      <td>0.0</td>\n",
       "      <td>0.06</td>\n",
       "      <td>0.0</td>\n",
       "      <td>4.72</td>\n",
       "      <td>0.0</td>\n",
       "      <td>0.0</td>\n",
       "      <td>Khan_Academy_Biology.csv</td>\n",
       "    </tr>\n",
       "    <tr>\n",
       "      <th>1</th>\n",
       "      <td>20090923.Variation in a Species.DuArVnT1i-E.en...</td>\n",
       "      <td>1</td>\n",
       "      <td>3602</td>\n",
       "      <td>27.91</td>\n",
       "      <td>59.10</td>\n",
       "      <td>37.91</td>\n",
       "      <td>35.98</td>\n",
       "      <td>3602.0</td>\n",
       "      <td>14.74</td>\n",
       "      <td>83.81</td>\n",
       "      <td>...</td>\n",
       "      <td>0.06</td>\n",
       "      <td>0.0</td>\n",
       "      <td>0.0</td>\n",
       "      <td>0.0</td>\n",
       "      <td>0.06</td>\n",
       "      <td>0.0</td>\n",
       "      <td>3.41</td>\n",
       "      <td>0.0</td>\n",
       "      <td>0.0</td>\n",
       "      <td>Khan_Academy_Biology.csv</td>\n",
       "    </tr>\n",
       "    <tr>\n",
       "      <th>2</th>\n",
       "      <td>20100218.Role of phagocytes in innate or nonsp...</td>\n",
       "      <td>1</td>\n",
       "      <td>2812</td>\n",
       "      <td>23.23</td>\n",
       "      <td>74.37</td>\n",
       "      <td>33.15</td>\n",
       "      <td>13.30</td>\n",
       "      <td>2812.0</td>\n",
       "      <td>16.04</td>\n",
       "      <td>85.56</td>\n",
       "      <td>...</td>\n",
       "      <td>0.07</td>\n",
       "      <td>0.0</td>\n",
       "      <td>0.0</td>\n",
       "      <td>0.0</td>\n",
       "      <td>0.11</td>\n",
       "      <td>0.0</td>\n",
       "      <td>4.30</td>\n",
       "      <td>0.0</td>\n",
       "      <td>0.0</td>\n",
       "      <td>Khan_Academy_Biology.csv</td>\n",
       "    </tr>\n",
       "    <tr>\n",
       "      <th>3</th>\n",
       "      <td>20150702.Surface tension _ States of matter an...</td>\n",
       "      <td>1</td>\n",
       "      <td>938</td>\n",
       "      <td>51.07</td>\n",
       "      <td>76.57</td>\n",
       "      <td>52.86</td>\n",
       "      <td>51.72</td>\n",
       "      <td>938.0</td>\n",
       "      <td>17.16</td>\n",
       "      <td>89.13</td>\n",
       "      <td>...</td>\n",
       "      <td>0.21</td>\n",
       "      <td>0.0</td>\n",
       "      <td>0.0</td>\n",
       "      <td>0.0</td>\n",
       "      <td>0.00</td>\n",
       "      <td>0.0</td>\n",
       "      <td>3.52</td>\n",
       "      <td>0.0</td>\n",
       "      <td>0.0</td>\n",
       "      <td>Khan_Academy_Biology.csv</td>\n",
       "    </tr>\n",
       "    <tr>\n",
       "      <th>4</th>\n",
       "      <td>20100205.CAM Plants.xp6Zj24h8uA.en.txt</td>\n",
       "      <td>1</td>\n",
       "      <td>1549</td>\n",
       "      <td>28.91</td>\n",
       "      <td>63.64</td>\n",
       "      <td>52.89</td>\n",
       "      <td>22.76</td>\n",
       "      <td>1549.0</td>\n",
       "      <td>13.75</td>\n",
       "      <td>81.21</td>\n",
       "      <td>...</td>\n",
       "      <td>0.13</td>\n",
       "      <td>0.0</td>\n",
       "      <td>0.0</td>\n",
       "      <td>0.0</td>\n",
       "      <td>0.06</td>\n",
       "      <td>0.0</td>\n",
       "      <td>3.36</td>\n",
       "      <td>0.0</td>\n",
       "      <td>0.0</td>\n",
       "      <td>Khan_Academy_Biology.csv</td>\n",
       "    </tr>\n",
       "    <tr>\n",
       "      <th>...</th>\n",
       "      <td>...</td>\n",
       "      <td>...</td>\n",
       "      <td>...</td>\n",
       "      <td>...</td>\n",
       "      <td>...</td>\n",
       "      <td>...</td>\n",
       "      <td>...</td>\n",
       "      <td>...</td>\n",
       "      <td>...</td>\n",
       "      <td>...</td>\n",
       "      <td>...</td>\n",
       "      <td>...</td>\n",
       "      <td>...</td>\n",
       "      <td>...</td>\n",
       "      <td>...</td>\n",
       "      <td>...</td>\n",
       "      <td>...</td>\n",
       "      <td>...</td>\n",
       "      <td>...</td>\n",
       "      <td>...</td>\n",
       "      <td>...</td>\n",
       "    </tr>\n",
       "    <tr>\n",
       "      <th>298</th>\n",
       "      <td>20130304.What Can Frogs See That We Can't.czto...</td>\n",
       "      <td>1</td>\n",
       "      <td>526</td>\n",
       "      <td>76.09</td>\n",
       "      <td>64.82</td>\n",
       "      <td>68.87</td>\n",
       "      <td>32.29</td>\n",
       "      <td>526.0</td>\n",
       "      <td>18.06</td>\n",
       "      <td>86.88</td>\n",
       "      <td>...</td>\n",
       "      <td>0.38</td>\n",
       "      <td>0.0</td>\n",
       "      <td>0.0</td>\n",
       "      <td>0.0</td>\n",
       "      <td>0.19</td>\n",
       "      <td>0.0</td>\n",
       "      <td>3.61</td>\n",
       "      <td>0.0</td>\n",
       "      <td>0.0</td>\n",
       "      <td>Veritasium.csv</td>\n",
       "    </tr>\n",
       "    <tr>\n",
       "      <th>299</th>\n",
       "      <td>20150324.How YouTube is Like a Potato.T_gCnf9-...</td>\n",
       "      <td>1</td>\n",
       "      <td>587</td>\n",
       "      <td>72.84</td>\n",
       "      <td>62.69</td>\n",
       "      <td>69.26</td>\n",
       "      <td>61.31</td>\n",
       "      <td>587.0</td>\n",
       "      <td>18.23</td>\n",
       "      <td>84.84</td>\n",
       "      <td>...</td>\n",
       "      <td>0.34</td>\n",
       "      <td>0.0</td>\n",
       "      <td>0.0</td>\n",
       "      <td>0.0</td>\n",
       "      <td>0.17</td>\n",
       "      <td>0.0</td>\n",
       "      <td>1.53</td>\n",
       "      <td>0.0</td>\n",
       "      <td>0.0</td>\n",
       "      <td>Veritasium.csv</td>\n",
       "    </tr>\n",
       "    <tr>\n",
       "      <th>300</th>\n",
       "      <td>20110829.Chain Drop Answer 2.X-QFAB0gEtE.en.txt</td>\n",
       "      <td>1</td>\n",
       "      <td>315</td>\n",
       "      <td>81.17</td>\n",
       "      <td>53.81</td>\n",
       "      <td>81.37</td>\n",
       "      <td>89.50</td>\n",
       "      <td>315.0</td>\n",
       "      <td>17.14</td>\n",
       "      <td>84.13</td>\n",
       "      <td>...</td>\n",
       "      <td>0.63</td>\n",
       "      <td>0.0</td>\n",
       "      <td>0.0</td>\n",
       "      <td>0.0</td>\n",
       "      <td>0.00</td>\n",
       "      <td>0.0</td>\n",
       "      <td>2.86</td>\n",
       "      <td>0.0</td>\n",
       "      <td>0.0</td>\n",
       "      <td>Veritasium.csv</td>\n",
       "    </tr>\n",
       "    <tr>\n",
       "      <th>301</th>\n",
       "      <td>20141022.CapitolTV's DISTRICT VOICES - Distric...</td>\n",
       "      <td>1</td>\n",
       "      <td>415</td>\n",
       "      <td>72.61</td>\n",
       "      <td>74.25</td>\n",
       "      <td>29.86</td>\n",
       "      <td>94.94</td>\n",
       "      <td>415.0</td>\n",
       "      <td>20.72</td>\n",
       "      <td>80.72</td>\n",
       "      <td>...</td>\n",
       "      <td>0.48</td>\n",
       "      <td>0.0</td>\n",
       "      <td>0.0</td>\n",
       "      <td>0.0</td>\n",
       "      <td>0.00</td>\n",
       "      <td>0.0</td>\n",
       "      <td>1.45</td>\n",
       "      <td>0.0</td>\n",
       "      <td>0.0</td>\n",
       "      <td>Veritasium.csv</td>\n",
       "    </tr>\n",
       "    <tr>\n",
       "      <th>302</th>\n",
       "      <td>20120506.Where Does The Sun Get Its Energy.Ux3...</td>\n",
       "      <td>1</td>\n",
       "      <td>846</td>\n",
       "      <td>48.39</td>\n",
       "      <td>64.31</td>\n",
       "      <td>44.79</td>\n",
       "      <td>96.63</td>\n",
       "      <td>846.0</td>\n",
       "      <td>16.55</td>\n",
       "      <td>85.58</td>\n",
       "      <td>...</td>\n",
       "      <td>0.24</td>\n",
       "      <td>0.0</td>\n",
       "      <td>0.0</td>\n",
       "      <td>0.0</td>\n",
       "      <td>0.00</td>\n",
       "      <td>0.0</td>\n",
       "      <td>4.26</td>\n",
       "      <td>0.0</td>\n",
       "      <td>0.0</td>\n",
       "      <td>Veritasium.csv</td>\n",
       "    </tr>\n",
       "  </tbody>\n",
       "</table>\n",
       "<p>1064 rows × 96 columns</p>\n",
       "</div>"
      ],
      "text/plain": [
       "                                              Filename  Segment    WC  \\\n",
       "0    20150714.Saturated fats, unsaturated fats, and...        1  1802   \n",
       "1    20090923.Variation in a Species.DuArVnT1i-E.en...        1  3602   \n",
       "2    20100218.Role of phagocytes in innate or nonsp...        1  2812   \n",
       "3    20150702.Surface tension _ States of matter an...        1   938   \n",
       "4               20100205.CAM Plants.xp6Zj24h8uA.en.txt        1  1549   \n",
       "..                                                 ...      ...   ...   \n",
       "298  20130304.What Can Frogs See That We Can't.czto...        1   526   \n",
       "299  20150324.How YouTube is Like a Potato.T_gCnf9-...        1   587   \n",
       "300    20110829.Chain Drop Answer 2.X-QFAB0gEtE.en.txt        1   315   \n",
       "301  20141022.CapitolTV's DISTRICT VOICES - Distric...        1   415   \n",
       "302  20120506.Where Does The Sun Get Its Energy.Ux3...        1   846   \n",
       "\n",
       "     Analytic  Clout  Authentic   Tone     WPS  Sixltr    Dic  ...  Colon  \\\n",
       "0       19.33  77.14      18.13  37.55  1802.0   13.87  84.68  ...   0.11   \n",
       "1       27.91  59.10      37.91  35.98  3602.0   14.74  83.81  ...   0.06   \n",
       "2       23.23  74.37      33.15  13.30  2812.0   16.04  85.56  ...   0.07   \n",
       "3       51.07  76.57      52.86  51.72   938.0   17.16  89.13  ...   0.21   \n",
       "4       28.91  63.64      52.89  22.76  1549.0   13.75  81.21  ...   0.13   \n",
       "..        ...    ...        ...    ...     ...     ...    ...  ...    ...   \n",
       "298     76.09  64.82      68.87  32.29   526.0   18.06  86.88  ...   0.38   \n",
       "299     72.84  62.69      69.26  61.31   587.0   18.23  84.84  ...   0.34   \n",
       "300     81.17  53.81      81.37  89.50   315.0   17.14  84.13  ...   0.63   \n",
       "301     72.61  74.25      29.86  94.94   415.0   20.72  80.72  ...   0.48   \n",
       "302     48.39  64.31      44.79  96.63   846.0   16.55  85.58  ...   0.24   \n",
       "\n",
       "     SemiC  QMark  Exclam  Dash  Quote  Apostro  Parenth  OtherP  \\\n",
       "0      0.0    0.0     0.0  0.06    0.0     4.72      0.0     0.0   \n",
       "1      0.0    0.0     0.0  0.06    0.0     3.41      0.0     0.0   \n",
       "2      0.0    0.0     0.0  0.11    0.0     4.30      0.0     0.0   \n",
       "3      0.0    0.0     0.0  0.00    0.0     3.52      0.0     0.0   \n",
       "4      0.0    0.0     0.0  0.06    0.0     3.36      0.0     0.0   \n",
       "..     ...    ...     ...   ...    ...      ...      ...     ...   \n",
       "298    0.0    0.0     0.0  0.19    0.0     3.61      0.0     0.0   \n",
       "299    0.0    0.0     0.0  0.17    0.0     1.53      0.0     0.0   \n",
       "300    0.0    0.0     0.0  0.00    0.0     2.86      0.0     0.0   \n",
       "301    0.0    0.0     0.0  0.00    0.0     1.45      0.0     0.0   \n",
       "302    0.0    0.0     0.0  0.00    0.0     4.26      0.0     0.0   \n",
       "\n",
       "                 channel_name  \n",
       "0    Khan_Academy_Biology.csv  \n",
       "1    Khan_Academy_Biology.csv  \n",
       "2    Khan_Academy_Biology.csv  \n",
       "3    Khan_Academy_Biology.csv  \n",
       "4    Khan_Academy_Biology.csv  \n",
       "..                        ...  \n",
       "298            Veritasium.csv  \n",
       "299            Veritasium.csv  \n",
       "300            Veritasium.csv  \n",
       "301            Veritasium.csv  \n",
       "302            Veritasium.csv  \n",
       "\n",
       "[1064 rows x 96 columns]"
      ]
     },
     "execution_count": 18,
     "metadata": {},
     "output_type": "execute_result"
    }
   ],
   "source": [
    "LIWC_data"
   ]
  },
  {
   "cell_type": "code",
   "execution_count": 19,
   "metadata": {},
   "outputs": [
    {
     "data": {
      "text/html": [
       "<div>\n",
       "<style scoped>\n",
       "    .dataframe tbody tr th:only-of-type {\n",
       "        vertical-align: middle;\n",
       "    }\n",
       "\n",
       "    .dataframe tbody tr th {\n",
       "        vertical-align: top;\n",
       "    }\n",
       "\n",
       "    .dataframe thead th {\n",
       "        text-align: right;\n",
       "    }\n",
       "</style>\n",
       "<table border=\"1\" class=\"dataframe\">\n",
       "  <thead>\n",
       "    <tr style=\"text-align: right;\">\n",
       "      <th></th>\n",
       "      <th>Filename</th>\n",
       "      <th>Analytic</th>\n",
       "      <th>Clout</th>\n",
       "      <th>Authentic</th>\n",
       "      <th>Tone</th>\n",
       "      <th>channel_name</th>\n",
       "    </tr>\n",
       "  </thead>\n",
       "  <tbody>\n",
       "    <tr>\n",
       "      <th>0</th>\n",
       "      <td>20150714.Saturated fats, unsaturated fats, and...</td>\n",
       "      <td>19.33</td>\n",
       "      <td>77.14</td>\n",
       "      <td>18.13</td>\n",
       "      <td>37.55</td>\n",
       "      <td>Khan_Academy_Biology.csv</td>\n",
       "    </tr>\n",
       "    <tr>\n",
       "      <th>1</th>\n",
       "      <td>20090923.Variation in a Species.DuArVnT1i-E.en...</td>\n",
       "      <td>27.91</td>\n",
       "      <td>59.10</td>\n",
       "      <td>37.91</td>\n",
       "      <td>35.98</td>\n",
       "      <td>Khan_Academy_Biology.csv</td>\n",
       "    </tr>\n",
       "    <tr>\n",
       "      <th>2</th>\n",
       "      <td>20100218.Role of phagocytes in innate or nonsp...</td>\n",
       "      <td>23.23</td>\n",
       "      <td>74.37</td>\n",
       "      <td>33.15</td>\n",
       "      <td>13.30</td>\n",
       "      <td>Khan_Academy_Biology.csv</td>\n",
       "    </tr>\n",
       "    <tr>\n",
       "      <th>3</th>\n",
       "      <td>20150702.Surface tension _ States of matter an...</td>\n",
       "      <td>51.07</td>\n",
       "      <td>76.57</td>\n",
       "      <td>52.86</td>\n",
       "      <td>51.72</td>\n",
       "      <td>Khan_Academy_Biology.csv</td>\n",
       "    </tr>\n",
       "    <tr>\n",
       "      <th>4</th>\n",
       "      <td>20100205.CAM Plants.xp6Zj24h8uA.en.txt</td>\n",
       "      <td>28.91</td>\n",
       "      <td>63.64</td>\n",
       "      <td>52.89</td>\n",
       "      <td>22.76</td>\n",
       "      <td>Khan_Academy_Biology.csv</td>\n",
       "    </tr>\n",
       "    <tr>\n",
       "      <th>...</th>\n",
       "      <td>...</td>\n",
       "      <td>...</td>\n",
       "      <td>...</td>\n",
       "      <td>...</td>\n",
       "      <td>...</td>\n",
       "      <td>...</td>\n",
       "    </tr>\n",
       "    <tr>\n",
       "      <th>298</th>\n",
       "      <td>20130304.What Can Frogs See That We Can't.czto...</td>\n",
       "      <td>76.09</td>\n",
       "      <td>64.82</td>\n",
       "      <td>68.87</td>\n",
       "      <td>32.29</td>\n",
       "      <td>Veritasium.csv</td>\n",
       "    </tr>\n",
       "    <tr>\n",
       "      <th>299</th>\n",
       "      <td>20150324.How YouTube is Like a Potato.T_gCnf9-...</td>\n",
       "      <td>72.84</td>\n",
       "      <td>62.69</td>\n",
       "      <td>69.26</td>\n",
       "      <td>61.31</td>\n",
       "      <td>Veritasium.csv</td>\n",
       "    </tr>\n",
       "    <tr>\n",
       "      <th>300</th>\n",
       "      <td>20110829.Chain Drop Answer 2.X-QFAB0gEtE.en.txt</td>\n",
       "      <td>81.17</td>\n",
       "      <td>53.81</td>\n",
       "      <td>81.37</td>\n",
       "      <td>89.50</td>\n",
       "      <td>Veritasium.csv</td>\n",
       "    </tr>\n",
       "    <tr>\n",
       "      <th>301</th>\n",
       "      <td>20141022.CapitolTV's DISTRICT VOICES - Distric...</td>\n",
       "      <td>72.61</td>\n",
       "      <td>74.25</td>\n",
       "      <td>29.86</td>\n",
       "      <td>94.94</td>\n",
       "      <td>Veritasium.csv</td>\n",
       "    </tr>\n",
       "    <tr>\n",
       "      <th>302</th>\n",
       "      <td>20120506.Where Does The Sun Get Its Energy.Ux3...</td>\n",
       "      <td>48.39</td>\n",
       "      <td>64.31</td>\n",
       "      <td>44.79</td>\n",
       "      <td>96.63</td>\n",
       "      <td>Veritasium.csv</td>\n",
       "    </tr>\n",
       "  </tbody>\n",
       "</table>\n",
       "<p>1064 rows × 6 columns</p>\n",
       "</div>"
      ],
      "text/plain": [
       "                                              Filename  Analytic  Clout  \\\n",
       "0    20150714.Saturated fats, unsaturated fats, and...     19.33  77.14   \n",
       "1    20090923.Variation in a Species.DuArVnT1i-E.en...     27.91  59.10   \n",
       "2    20100218.Role of phagocytes in innate or nonsp...     23.23  74.37   \n",
       "3    20150702.Surface tension _ States of matter an...     51.07  76.57   \n",
       "4               20100205.CAM Plants.xp6Zj24h8uA.en.txt     28.91  63.64   \n",
       "..                                                 ...       ...    ...   \n",
       "298  20130304.What Can Frogs See That We Can't.czto...     76.09  64.82   \n",
       "299  20150324.How YouTube is Like a Potato.T_gCnf9-...     72.84  62.69   \n",
       "300    20110829.Chain Drop Answer 2.X-QFAB0gEtE.en.txt     81.17  53.81   \n",
       "301  20141022.CapitolTV's DISTRICT VOICES - Distric...     72.61  74.25   \n",
       "302  20120506.Where Does The Sun Get Its Energy.Ux3...     48.39  64.31   \n",
       "\n",
       "     Authentic   Tone              channel_name  \n",
       "0        18.13  37.55  Khan_Academy_Biology.csv  \n",
       "1        37.91  35.98  Khan_Academy_Biology.csv  \n",
       "2        33.15  13.30  Khan_Academy_Biology.csv  \n",
       "3        52.86  51.72  Khan_Academy_Biology.csv  \n",
       "4        52.89  22.76  Khan_Academy_Biology.csv  \n",
       "..         ...    ...                       ...  \n",
       "298      68.87  32.29            Veritasium.csv  \n",
       "299      69.26  61.31            Veritasium.csv  \n",
       "300      81.37  89.50            Veritasium.csv  \n",
       "301      29.86  94.94            Veritasium.csv  \n",
       "302      44.79  96.63            Veritasium.csv  \n",
       "\n",
       "[1064 rows x 6 columns]"
      ]
     },
     "execution_count": 19,
     "metadata": {},
     "output_type": "execute_result"
    }
   ],
   "source": [
    "LIWC_data[[\"Filename\", \"Analytic\", \"Clout\", \"Authentic\", \"Tone\", \"channel_name\"]]\n"
   ]
  },
  {
   "cell_type": "code",
   "execution_count": 20,
   "metadata": {},
   "outputs": [
    {
     "data": {
      "text/plain": [
       "<AxesSubplot:title={'center':'Analytic Scores'}, xlabel='Analytic', ylabel='Count'>"
      ]
     },
     "execution_count": 20,
     "metadata": {},
     "output_type": "execute_result"
    },
    {
     "data": {
      "image/png": "[encoded data removed]",
      "text/plain": [
       "<Figure size 792x648 with 1 Axes>"
      ]
     },
     "metadata": {
      "needs_background": "light"
     },
     "output_type": "display_data"
    }
   ],
   "source": [
    "import matplotlib.pyplot as plt\n",
    "import seaborn as sns\n",
    "f, ax = plt.subplots(figsize=(11,9))\n",
    "plt.title('Analytic Scores')\n",
    "#plt.ylabel('pdf')\n",
    "sns.histplot(LIWC_data.Analytic)"
   ]
  },
  {
   "cell_type": "code",
   "execution_count": 21,
   "metadata": {},
   "outputs": [
    {
     "data": {
      "text/plain": [
       "<AxesSubplot:title={'center':'Clout'}, xlabel='Clout', ylabel='Count'>"
      ]
     },
     "execution_count": 21,
     "metadata": {},
     "output_type": "execute_result"
    },
    {
     "data": {
      "image/png": "[encoded data removed]",
      "text/plain": [
       "<Figure size 792x648 with 1 Axes>"
      ]
     },
     "metadata": {
      "needs_background": "light"
     },
     "output_type": "display_data"
    }
   ],
   "source": [
    "f, ax = plt.subplots(figsize=(11,9))\n",
    "plt.title('Clout')\n",
    "#plt.ylabel('pdf')\n",
    "sns.histplot(LIWC_data.Clout)"
   ]
  },
  {
   "cell_type": "code",
   "execution_count": 22,
   "metadata": {},
   "outputs": [
    {
     "data": {
      "text/plain": [
       "<AxesSubplot:title={'center':'Authentic'}, xlabel='Authentic', ylabel='Count'>"
      ]
     },
     "execution_count": 22,
     "metadata": {},
     "output_type": "execute_result"
    },
    {
     "data": {
      "image/png": "[encoded data removed]",
      "text/plain": [
       "<Figure size 792x648 with 1 Axes>"
      ]
     },
     "metadata": {
      "needs_background": "light"
     },
     "output_type": "display_data"
    }
   ],
   "source": [
    "f, ax = plt.subplots(figsize=(11,9))\n",
    "plt.title('Authentic')\n",
    "#plt.ylabel('pdf')\n",
    "sns.histplot(LIWC_data.Authentic)"
   ]
  },
  {
   "cell_type": "code",
   "execution_count": 23,
   "metadata": {},
   "outputs": [
    {
     "data": {
      "text/plain": [
       "<AxesSubplot:title={'center':'Tone'}, xlabel='Tone', ylabel='Count'>"
      ]
     },
     "execution_count": 23,
     "metadata": {},
     "output_type": "execute_result"
    },
    {
     "data": {
      "image/png": "[encoded data removed]",
      "text/plain": [
       "<Figure size 792x648 with 1 Axes>"
      ]
     },
     "metadata": {
      "needs_background": "light"
     },
     "output_type": "display_data"
    }
   ],
   "source": [
    "f, ax = plt.subplots(figsize=(11,9))\n",
    "plt.title('Tone')\n",
    "#plt.ylabel('pdf')\n",
    "sns.histplot(LIWC_data.Tone)"
   ]
  },
  {
   "cell_type": "code",
   "execution_count": 24,
   "metadata": {},
   "outputs": [
    {
     "data": {
      "text/plain": [
       "Analytic     47.174652\n",
       "Clout        71.231062\n",
       "Authentic    39.189239\n",
       "Tone         50.253788\n",
       "dtype: float64"
      ]
     },
     "execution_count": 24,
     "metadata": {},
     "output_type": "execute_result"
    }
   ],
   "source": [
    "LIWC_data[[\"Analytic\", \"Clout\", \"Authentic\", \"Tone\"]].mean()"
   ]
  },
  {
   "cell_type": "code",
   "execution_count": 25,
   "metadata": {},
   "outputs": [
    {
     "data": {
      "text/plain": [
       "Analytic     18.126022\n",
       "Clout        13.297507\n",
       "Authentic    21.620491\n",
       "Tone         19.405011\n",
       "dtype: float64"
      ]
     },
     "execution_count": 25,
     "metadata": {},
     "output_type": "execute_result"
    }
   ],
   "source": [
    "LIWC_data[[\"Analytic\", \"Clout\", \"Authentic\", \"Tone\"]].std()"
   ]
  },
  {
   "cell_type": "code",
   "execution_count": 26,
   "metadata": {},
   "outputs": [
    {
     "data": {
      "text/html": [
       "<div>\n",
       "<style scoped>\n",
       "    .dataframe tbody tr th:only-of-type {\n",
       "        vertical-align: middle;\n",
       "    }\n",
       "\n",
       "    .dataframe tbody tr th {\n",
       "        vertical-align: top;\n",
       "    }\n",
       "\n",
       "    .dataframe thead tr th {\n",
       "        text-align: left;\n",
       "    }\n",
       "\n",
       "    .dataframe thead tr:last-of-type th {\n",
       "        text-align: right;\n",
       "    }\n",
       "</style>\n",
       "<table border=\"1\" class=\"dataframe\">\n",
       "  <thead>\n",
       "    <tr>\n",
       "      <th></th>\n",
       "      <th colspan=\"2\" halign=\"left\">Analytic</th>\n",
       "      <th colspan=\"2\" halign=\"left\">Clout</th>\n",
       "      <th colspan=\"2\" halign=\"left\">Authentic</th>\n",
       "      <th colspan=\"2\" halign=\"left\">Tone</th>\n",
       "    </tr>\n",
       "    <tr>\n",
       "      <th></th>\n",
       "      <th>mean</th>\n",
       "      <th>std</th>\n",
       "      <th>mean</th>\n",
       "      <th>std</th>\n",
       "      <th>mean</th>\n",
       "      <th>std</th>\n",
       "      <th>mean</th>\n",
       "      <th>std</th>\n",
       "    </tr>\n",
       "    <tr>\n",
       "      <th>channel_name</th>\n",
       "      <th></th>\n",
       "      <th></th>\n",
       "      <th></th>\n",
       "      <th></th>\n",
       "      <th></th>\n",
       "      <th></th>\n",
       "      <th></th>\n",
       "      <th></th>\n",
       "    </tr>\n",
       "  </thead>\n",
       "  <tbody>\n",
       "    <tr>\n",
       "      <th>Khan_Academy_Biology.csv</th>\n",
       "      <td>35.231600</td>\n",
       "      <td>11.160910</td>\n",
       "      <td>70.284933</td>\n",
       "      <td>8.395855</td>\n",
       "      <td>33.515667</td>\n",
       "      <td>16.720163</td>\n",
       "      <td>48.351133</td>\n",
       "      <td>18.188276</td>\n",
       "    </tr>\n",
       "    <tr>\n",
       "      <th>Khan_Academy_Chemistry.csv</th>\n",
       "      <td>38.616368</td>\n",
       "      <td>14.285282</td>\n",
       "      <td>80.343504</td>\n",
       "      <td>12.388992</td>\n",
       "      <td>24.704552</td>\n",
       "      <td>15.181674</td>\n",
       "      <td>41.951407</td>\n",
       "      <td>15.297178</td>\n",
       "    </tr>\n",
       "    <tr>\n",
       "      <th>Khan_Academy_Physics.csv</th>\n",
       "      <td>53.930164</td>\n",
       "      <td>15.712797</td>\n",
       "      <td>63.831803</td>\n",
       "      <td>8.260399</td>\n",
       "      <td>50.976230</td>\n",
       "      <td>17.255993</td>\n",
       "      <td>51.375082</td>\n",
       "      <td>22.500576</td>\n",
       "    </tr>\n",
       "    <tr>\n",
       "      <th>Physics_Girl.csv</th>\n",
       "      <td>57.770692</td>\n",
       "      <td>15.454853</td>\n",
       "      <td>66.578365</td>\n",
       "      <td>9.832303</td>\n",
       "      <td>52.759497</td>\n",
       "      <td>17.610288</td>\n",
       "      <td>58.789686</td>\n",
       "      <td>19.136222</td>\n",
       "    </tr>\n",
       "    <tr>\n",
       "      <th>Veritasium.csv</th>\n",
       "      <td>57.210594</td>\n",
       "      <td>17.955428</td>\n",
       "      <td>63.871617</td>\n",
       "      <td>11.854220</td>\n",
       "      <td>51.195413</td>\n",
       "      <td>20.762867</td>\n",
       "      <td>57.204356</td>\n",
       "      <td>19.741308</td>\n",
       "    </tr>\n",
       "  </tbody>\n",
       "</table>\n",
       "</div>"
      ],
      "text/plain": [
       "                             Analytic                 Clout             \\\n",
       "                                 mean        std       mean        std   \n",
       "channel_name                                                             \n",
       "Khan_Academy_Biology.csv    35.231600  11.160910  70.284933   8.395855   \n",
       "Khan_Academy_Chemistry.csv  38.616368  14.285282  80.343504  12.388992   \n",
       "Khan_Academy_Physics.csv    53.930164  15.712797  63.831803   8.260399   \n",
       "Physics_Girl.csv            57.770692  15.454853  66.578365   9.832303   \n",
       "Veritasium.csv              57.210594  17.955428  63.871617  11.854220   \n",
       "\n",
       "                            Authentic                  Tone             \n",
       "                                 mean        std       mean        std  \n",
       "channel_name                                                            \n",
       "Khan_Academy_Biology.csv    33.515667  16.720163  48.351133  18.188276  \n",
       "Khan_Academy_Chemistry.csv  24.704552  15.181674  41.951407  15.297178  \n",
       "Khan_Academy_Physics.csv    50.976230  17.255993  51.375082  22.500576  \n",
       "Physics_Girl.csv            52.759497  17.610288  58.789686  19.136222  \n",
       "Veritasium.csv              51.195413  20.762867  57.204356  19.741308  "
      ]
     },
     "execution_count": 26,
     "metadata": {},
     "output_type": "execute_result"
    }
   ],
   "source": [
    "LIWC_data[[\"Analytic\", \"Clout\", \"Authentic\", \"Tone\",\"channel_name\"]].groupby(\"channel_name\").aggregate([np.mean, np.std])"
   ]
  },
  {
   "cell_type": "code",
   "execution_count": 27,
   "metadata": {},
   "outputs": [
    {
     "data": {
      "text/plain": [
       "<AxesSubplot:title={'center':'Analytic'}, xlabel='channel_name'>"
      ]
     },
     "execution_count": 27,
     "metadata": {},
     "output_type": "execute_result"
    },
    {
     "data": {
      "image/png": "[encoded data removed]",
      "text/plain": [
       "<Figure size 864x576 with 1 Axes>"
      ]
     },
     "metadata": {
      "needs_background": "light"
     },
     "output_type": "display_data"
    }
   ],
   "source": [
    "LIWC_data.boxplot('Analytic', by='channel_name', figsize=(12, 8))"
   ]
  },
  {
   "cell_type": "code",
   "execution_count": 28,
   "metadata": {},
   "outputs": [],
   "source": [
    "# https://pingouin-stats.org\n",
    "import pingouin as pg"
   ]
  },
  {
   "cell_type": "code",
   "execution_count": 29,
   "metadata": {},
   "outputs": [
    {
     "data": {
      "text/html": [
       "<div>\n",
       "<style scoped>\n",
       "    .dataframe tbody tr th:only-of-type {\n",
       "        vertical-align: middle;\n",
       "    }\n",
       "\n",
       "    .dataframe tbody tr th {\n",
       "        vertical-align: top;\n",
       "    }\n",
       "\n",
       "    .dataframe thead th {\n",
       "        text-align: right;\n",
       "    }\n",
       "</style>\n",
       "<table border=\"1\" class=\"dataframe\">\n",
       "  <thead>\n",
       "    <tr style=\"text-align: right;\">\n",
       "      <th></th>\n",
       "      <th>Source</th>\n",
       "      <th>SS</th>\n",
       "      <th>DF</th>\n",
       "      <th>MS</th>\n",
       "      <th>F</th>\n",
       "      <th>p-unc</th>\n",
       "      <th>np2</th>\n",
       "    </tr>\n",
       "  </thead>\n",
       "  <tbody>\n",
       "    <tr>\n",
       "      <th>0</th>\n",
       "      <td>channel_name</td>\n",
       "      <td>101187.910997</td>\n",
       "      <td>4</td>\n",
       "      <td>25296.977749</td>\n",
       "      <td>107.994491</td>\n",
       "      <td>3.296671e-77</td>\n",
       "      <td>0.289728</td>\n",
       "    </tr>\n",
       "    <tr>\n",
       "      <th>1</th>\n",
       "      <td>Within</td>\n",
       "      <td>248063.574874</td>\n",
       "      <td>1059</td>\n",
       "      <td>234.243225</td>\n",
       "      <td>NaN</td>\n",
       "      <td>NaN</td>\n",
       "      <td>NaN</td>\n",
       "    </tr>\n",
       "  </tbody>\n",
       "</table>\n",
       "</div>"
      ],
      "text/plain": [
       "         Source             SS    DF            MS           F         p-unc  \\\n",
       "0  channel_name  101187.910997     4  25296.977749  107.994491  3.296671e-77   \n",
       "1        Within  248063.574874  1059    234.243225         NaN           NaN   \n",
       "\n",
       "        np2  \n",
       "0  0.289728  \n",
       "1       NaN  "
      ]
     },
     "execution_count": 29,
     "metadata": {},
     "output_type": "execute_result"
    }
   ],
   "source": [
    "aov = pg.anova(data=LIWC_data, dv='Analytic', between='channel_name', detailed=True)\n",
    "aov"
   ]
  },
  {
   "cell_type": "code",
   "execution_count": null,
   "metadata": {},
   "outputs": [],
   "source": []
  },
  {
   "cell_type": "code",
   "execution_count": null,
   "metadata": {},
   "outputs": [],
   "source": []
  }
 ],
 "metadata": {
  "kernelspec": {
   "display_name": "Python 3",
   "language": "python",
   "name": "python3"
  },
  "language_info": {
   "codemirror_mode": {
    "name": "ipython",
    "version": 3
   },
   "file_extension": ".py",
   "mimetype": "text/x-python",
   "name": "python",
   "nbconvert_exporter": "python",
   "pygments_lexer": "ipython3",
   "version": "3.8.5"
  }
 },
 "nbformat": 4,
 "nbformat_minor": 4
}
