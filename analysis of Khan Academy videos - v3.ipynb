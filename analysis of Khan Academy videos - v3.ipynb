{
 "cells": [
  {
   "cell_type": "code",
   "execution_count": 1,
   "metadata": {},
   "outputs": [],
   "source": [
    "import pandas as pd\n",
    "from glob import glob\n",
    "import numpy as np"
   ]
  },
  {
   "cell_type": "code",
   "execution_count": 20,
   "metadata": {},
   "outputs": [
    {
     "data": {
      "text/plain": [
       "['Khan_Academy_Physics.csv', 'Physics_Girl.csv']"
      ]
     },
     "execution_count": 20,
     "metadata": {},
     "output_type": "execute_result"
    }
   ],
   "source": [
    "all_my_data = sorted(glob('*Physics*.csv',recursive=True))\n",
    "all_my_data"
   ]
  },
  {
   "cell_type": "code",
   "execution_count": 21,
   "metadata": {},
   "outputs": [],
   "source": [
    "LIWC_data = pd.concat((pd.read_csv(file).assign(channel_name=file)\n",
    "          for file in all_my_data))"
   ]
  },
  {
   "cell_type": "code",
   "execution_count": 22,
   "metadata": {},
   "outputs": [
    {
     "data": {
      "text/html": [
       "<div>\n",
       "<style scoped>\n",
       "    .dataframe tbody tr th:only-of-type {\n",
       "        vertical-align: middle;\n",
       "    }\n",
       "\n",
       "    .dataframe tbody tr th {\n",
       "        vertical-align: top;\n",
       "    }\n",
       "\n",
       "    .dataframe thead th {\n",
       "        text-align: right;\n",
       "    }\n",
       "</style>\n",
       "<table border=\"1\" class=\"dataframe\">\n",
       "  <thead>\n",
       "    <tr style=\"text-align: right;\">\n",
       "      <th></th>\n",
       "      <th>Filename</th>\n",
       "      <th>Analytic</th>\n",
       "      <th>Clout</th>\n",
       "      <th>Authentic</th>\n",
       "      <th>Tone</th>\n",
       "      <th>channel_name</th>\n",
       "    </tr>\n",
       "  </thead>\n",
       "  <tbody>\n",
       "    <tr>\n",
       "      <th>0</th>\n",
       "      <td>20160729.Wave interference _ Mechanical waves ...</td>\n",
       "      <td>48.87</td>\n",
       "      <td>67.93</td>\n",
       "      <td>58.72</td>\n",
       "      <td>66.09</td>\n",
       "      <td>Khan_Academy_Physics.csv</td>\n",
       "    </tr>\n",
       "    <tr>\n",
       "      <th>1</th>\n",
       "      <td>20160729.Mass swinging in a horizontal circle ...</td>\n",
       "      <td>54.19</td>\n",
       "      <td>65.63</td>\n",
       "      <td>48.65</td>\n",
       "      <td>9.56</td>\n",
       "      <td>Khan_Academy_Physics.csv</td>\n",
       "    </tr>\n",
       "    <tr>\n",
       "      <th>2</th>\n",
       "      <td>20160729.Electric power _ Circuits _ Physics _...</td>\n",
       "      <td>45.72</td>\n",
       "      <td>61.00</td>\n",
       "      <td>44.47</td>\n",
       "      <td>88.52</td>\n",
       "      <td>Khan_Academy_Physics.csv</td>\n",
       "    </tr>\n",
       "    <tr>\n",
       "      <th>3</th>\n",
       "      <td>20160729.How to use the shortcut for solving e...</td>\n",
       "      <td>53.14</td>\n",
       "      <td>57.63</td>\n",
       "      <td>49.21</td>\n",
       "      <td>39.17</td>\n",
       "      <td>Khan_Academy_Physics.csv</td>\n",
       "    </tr>\n",
       "    <tr>\n",
       "      <th>4</th>\n",
       "      <td>20160801.Finding torque for angled forces _ Ph...</td>\n",
       "      <td>49.64</td>\n",
       "      <td>64.66</td>\n",
       "      <td>26.34</td>\n",
       "      <td>25.77</td>\n",
       "      <td>Khan_Academy_Physics.csv</td>\n",
       "    </tr>\n",
       "    <tr>\n",
       "      <th>...</th>\n",
       "      <td>...</td>\n",
       "      <td>...</td>\n",
       "      <td>...</td>\n",
       "      <td>...</td>\n",
       "      <td>...</td>\n",
       "      <td>...</td>\n",
       "    </tr>\n",
       "    <tr>\n",
       "      <th>154</th>\n",
       "      <td>20190823.Why are there giant concrete tunnels ...</td>\n",
       "      <td>61.84</td>\n",
       "      <td>72.18</td>\n",
       "      <td>67.27</td>\n",
       "      <td>45.26</td>\n",
       "      <td>Physics_Girl.csv</td>\n",
       "    </tr>\n",
       "    <tr>\n",
       "      <th>155</th>\n",
       "      <td>20160112.5 AMAZING stars we’ve discovered in s...</td>\n",
       "      <td>82.87</td>\n",
       "      <td>63.53</td>\n",
       "      <td>35.59</td>\n",
       "      <td>55.74</td>\n",
       "      <td>Physics_Girl.csv</td>\n",
       "    </tr>\n",
       "    <tr>\n",
       "      <th>156</th>\n",
       "      <td>20151020.AMAZING! Ferrofluid + Glow Sticks.RtB...</td>\n",
       "      <td>86.25</td>\n",
       "      <td>53.06</td>\n",
       "      <td>34.01</td>\n",
       "      <td>63.52</td>\n",
       "      <td>Physics_Girl.csv</td>\n",
       "    </tr>\n",
       "    <tr>\n",
       "      <th>157</th>\n",
       "      <td>20121019.What can you do with a physics degree...</td>\n",
       "      <td>53.18</td>\n",
       "      <td>64.93</td>\n",
       "      <td>50.45</td>\n",
       "      <td>80.36</td>\n",
       "      <td>Physics_Girl.csv</td>\n",
       "    </tr>\n",
       "    <tr>\n",
       "      <th>158</th>\n",
       "      <td>20131229.How to float a ping pong ball on air ...</td>\n",
       "      <td>92.91</td>\n",
       "      <td>58.94</td>\n",
       "      <td>95.12</td>\n",
       "      <td>11.21</td>\n",
       "      <td>Physics_Girl.csv</td>\n",
       "    </tr>\n",
       "  </tbody>\n",
       "</table>\n",
       "<p>220 rows × 6 columns</p>\n",
       "</div>"
      ],
      "text/plain": [
       "                                              Filename  Analytic  Clout  \\\n",
       "0    20160729.Wave interference _ Mechanical waves ...     48.87  67.93   \n",
       "1    20160729.Mass swinging in a horizontal circle ...     54.19  65.63   \n",
       "2    20160729.Electric power _ Circuits _ Physics _...     45.72  61.00   \n",
       "3    20160729.How to use the shortcut for solving e...     53.14  57.63   \n",
       "4    20160801.Finding torque for angled forces _ Ph...     49.64  64.66   \n",
       "..                                                 ...       ...    ...   \n",
       "154  20190823.Why are there giant concrete tunnels ...     61.84  72.18   \n",
       "155  20160112.5 AMAZING stars we’ve discovered in s...     82.87  63.53   \n",
       "156  20151020.AMAZING! Ferrofluid + Glow Sticks.RtB...     86.25  53.06   \n",
       "157  20121019.What can you do with a physics degree...     53.18  64.93   \n",
       "158  20131229.How to float a ping pong ball on air ...     92.91  58.94   \n",
       "\n",
       "     Authentic   Tone              channel_name  \n",
       "0        58.72  66.09  Khan_Academy_Physics.csv  \n",
       "1        48.65   9.56  Khan_Academy_Physics.csv  \n",
       "2        44.47  88.52  Khan_Academy_Physics.csv  \n",
       "3        49.21  39.17  Khan_Academy_Physics.csv  \n",
       "4        26.34  25.77  Khan_Academy_Physics.csv  \n",
       "..         ...    ...                       ...  \n",
       "154      67.27  45.26          Physics_Girl.csv  \n",
       "155      35.59  55.74          Physics_Girl.csv  \n",
       "156      34.01  63.52          Physics_Girl.csv  \n",
       "157      50.45  80.36          Physics_Girl.csv  \n",
       "158      95.12  11.21          Physics_Girl.csv  \n",
       "\n",
       "[220 rows x 6 columns]"
      ]
     },
     "execution_count": 22,
     "metadata": {},
     "output_type": "execute_result"
    }
   ],
   "source": [
    "LIWC_data[[\"Filename\", \"Analytic\", \"Clout\", \"Authentic\", \"Tone\", \"channel_name\"]]\n"
   ]
  },
  {
   "cell_type": "code",
   "execution_count": 23,
   "metadata": {},
   "outputs": [
    {
     "data": {
      "text/plain": [
       "<AxesSubplot:title={'center':'Analytic Scores'}, xlabel='Analytic', ylabel='Count'>"
      ]
     },
     "execution_count": 23,
     "metadata": {},
     "output_type": "execute_result"
    },
    {
     "data": {
      "image/png": "[encoded data removed]",
      "text/plain": [
       "<Figure size 792x648 with 1 Axes>"
      ]
     },
     "metadata": {
      "needs_background": "light"
     },
     "output_type": "display_data"
    }
   ],
   "source": [
    "import matplotlib.pyplot as plt\n",
    "import seaborn as sns\n",
    "f, ax = plt.subplots(figsize=(11,9))\n",
    "plt.title('Analytic Scores')\n",
    "#plt.ylabel('pdf')\n",
    "sns.histplot(LIWC_data.Analytic)"
   ]
  },
  {
   "cell_type": "code",
   "execution_count": 24,
   "metadata": {},
   "outputs": [
    {
     "data": {
      "text/plain": [
       "<AxesSubplot:title={'center':'Clout'}, xlabel='Clout', ylabel='Count'>"
      ]
     },
     "execution_count": 24,
     "metadata": {},
     "output_type": "execute_result"
    },
    {
     "data": {
      "image/png": "[encoded data removed]",
      "text/plain": [
       "<Figure size 792x648 with 1 Axes>"
      ]
     },
     "metadata": {
      "needs_background": "light"
     },
     "output_type": "display_data"
    }
   ],
   "source": [
    "f, ax = plt.subplots(figsize=(11,9))\n",
    "plt.title('Clout')\n",
    "#plt.ylabel('pdf')\n",
    "sns.histplot(LIWC_data.Clout)"
   ]
  },
  {
   "cell_type": "code",
   "execution_count": 25,
   "metadata": {},
   "outputs": [
    {
     "data": {
      "text/plain": [
       "<AxesSubplot:title={'center':'Authentic'}, xlabel='Authentic', ylabel='Count'>"
      ]
     },
     "execution_count": 25,
     "metadata": {},
     "output_type": "execute_result"
    },
    {
     "data": {
      "image/png": "[encoded data removed]",
      "text/plain": [
       "<Figure size 792x648 with 1 Axes>"
      ]
     },
     "metadata": {
      "needs_background": "light"
     },
     "output_type": "display_data"
    }
   ],
   "source": [
    "f, ax = plt.subplots(figsize=(11,9))\n",
    "plt.title('Authentic')\n",
    "#plt.ylabel('pdf')\n",
    "sns.histplot(LIWC_data.Authentic)"
   ]
  },
  {
   "cell_type": "code",
   "execution_count": 26,
   "metadata": {},
   "outputs": [
    {
     "data": {
      "text/plain": [
       "<AxesSubplot:title={'center':'Tone'}, xlabel='Tone', ylabel='Count'>"
      ]
     },
     "execution_count": 26,
     "metadata": {},
     "output_type": "execute_result"
    },
    {
     "data": {
      "image/png": "[encoded data removed]",
      "text/plain": [
       "<Figure size 792x648 with 1 Axes>"
      ]
     },
     "metadata": {
      "needs_background": "light"
     },
     "output_type": "display_data"
    }
   ],
   "source": [
    "f, ax = plt.subplots(figsize=(11,9))\n",
    "plt.title('Tone')\n",
    "#plt.ylabel('pdf')\n",
    "sns.histplot(LIWC_data.Tone)"
   ]
  },
  {
   "cell_type": "code",
   "execution_count": 27,
   "metadata": {},
   "outputs": [
    {
     "data": {
      "text/plain": [
       "Analytic     56.705818\n",
       "Clout        65.816818\n",
       "Authentic    52.265045\n",
       "Tone         56.733818\n",
       "dtype: float64"
      ]
     },
     "execution_count": 27,
     "metadata": {},
     "output_type": "execute_result"
    }
   ],
   "source": [
    "LIWC_data[[\"Analytic\", \"Clout\", \"Authentic\", \"Tone\"]].mean()"
   ]
  },
  {
   "cell_type": "code",
   "execution_count": 28,
   "metadata": {},
   "outputs": [
    {
     "data": {
      "text/plain": [
       "Analytic     15.586329\n",
       "Clout         9.484701\n",
       "Authentic    17.491768\n",
       "Tone         20.346213\n",
       "dtype: float64"
      ]
     },
     "execution_count": 28,
     "metadata": {},
     "output_type": "execute_result"
    }
   ],
   "source": [
    "LIWC_data[[\"Analytic\", \"Clout\", \"Authentic\", \"Tone\"]].std()"
   ]
  },
  {
   "cell_type": "code",
   "execution_count": 29,
   "metadata": {},
   "outputs": [
    {
     "data": {
      "text/html": [
       "<div>\n",
       "<style scoped>\n",
       "    .dataframe tbody tr th:only-of-type {\n",
       "        vertical-align: middle;\n",
       "    }\n",
       "\n",
       "    .dataframe tbody tr th {\n",
       "        vertical-align: top;\n",
       "    }\n",
       "\n",
       "    .dataframe thead tr th {\n",
       "        text-align: left;\n",
       "    }\n",
       "\n",
       "    .dataframe thead tr:last-of-type th {\n",
       "        text-align: right;\n",
       "    }\n",
       "</style>\n",
       "<table border=\"1\" class=\"dataframe\">\n",
       "  <thead>\n",
       "    <tr>\n",
       "      <th></th>\n",
       "      <th colspan=\"2\" halign=\"left\">Analytic</th>\n",
       "      <th colspan=\"2\" halign=\"left\">Clout</th>\n",
       "      <th colspan=\"2\" halign=\"left\">Authentic</th>\n",
       "      <th colspan=\"2\" halign=\"left\">Tone</th>\n",
       "    </tr>\n",
       "    <tr>\n",
       "      <th></th>\n",
       "      <th>mean</th>\n",
       "      <th>std</th>\n",
       "      <th>mean</th>\n",
       "      <th>std</th>\n",
       "      <th>mean</th>\n",
       "      <th>std</th>\n",
       "      <th>mean</th>\n",
       "      <th>std</th>\n",
       "    </tr>\n",
       "    <tr>\n",
       "      <th>channel_name</th>\n",
       "      <th></th>\n",
       "      <th></th>\n",
       "      <th></th>\n",
       "      <th></th>\n",
       "      <th></th>\n",
       "      <th></th>\n",
       "      <th></th>\n",
       "      <th></th>\n",
       "    </tr>\n",
       "  </thead>\n",
       "  <tbody>\n",
       "    <tr>\n",
       "      <th>Khan_Academy_Physics.csv</th>\n",
       "      <td>53.930164</td>\n",
       "      <td>15.712797</td>\n",
       "      <td>63.831803</td>\n",
       "      <td>8.260399</td>\n",
       "      <td>50.976230</td>\n",
       "      <td>17.255993</td>\n",
       "      <td>51.375082</td>\n",
       "      <td>22.500576</td>\n",
       "    </tr>\n",
       "    <tr>\n",
       "      <th>Physics_Girl.csv</th>\n",
       "      <td>57.770692</td>\n",
       "      <td>15.454853</td>\n",
       "      <td>66.578365</td>\n",
       "      <td>9.832303</td>\n",
       "      <td>52.759497</td>\n",
       "      <td>17.610288</td>\n",
       "      <td>58.789686</td>\n",
       "      <td>19.136222</td>\n",
       "    </tr>\n",
       "  </tbody>\n",
       "</table>\n",
       "</div>"
      ],
      "text/plain": [
       "                           Analytic                 Clout            \\\n",
       "                               mean        std       mean       std   \n",
       "channel_name                                                          \n",
       "Khan_Academy_Physics.csv  53.930164  15.712797  63.831803  8.260399   \n",
       "Physics_Girl.csv          57.770692  15.454853  66.578365  9.832303   \n",
       "\n",
       "                          Authentic                  Tone             \n",
       "                               mean        std       mean        std  \n",
       "channel_name                                                          \n",
       "Khan_Academy_Physics.csv  50.976230  17.255993  51.375082  22.500576  \n",
       "Physics_Girl.csv          52.759497  17.610288  58.789686  19.136222  "
      ]
     },
     "execution_count": 29,
     "metadata": {},
     "output_type": "execute_result"
    }
   ],
   "source": [
    "LIWC_data[[\"Analytic\", \"Clout\", \"Authentic\", \"Tone\",\"channel_name\"]].groupby(\"channel_name\").aggregate([np.mean, np.std])"
   ]
  },
  {
   "cell_type": "code",
   "execution_count": 30,
   "metadata": {},
   "outputs": [
    {
     "data": {
      "text/plain": [
       "<AxesSubplot:title={'center':'Analytic'}, xlabel='channel_name'>"
      ]
     },
     "execution_count": 30,
     "metadata": {},
     "output_type": "execute_result"
    },
    {
     "data": {
      "image/png": "[encoded data removed]",
      "text/plain": [
       "<Figure size 864x576 with 1 Axes>"
      ]
     },
     "metadata": {
      "needs_background": "light"
     },
     "output_type": "display_data"
    }
   ],
   "source": [
    "LIWC_data.boxplot('Analytic', by='channel_name', figsize=(12, 8))"
   ]
  },
  {
   "cell_type": "code",
   "execution_count": 31,
   "metadata": {},
   "outputs": [],
   "source": [
    "# https://pingouin-stats.org\n",
    "import pingouin as pg"
   ]
  },
  {
   "cell_type": "code",
   "execution_count": 32,
   "metadata": {},
   "outputs": [
    {
     "data": {
      "text/html": [
       "<div>\n",
       "<style scoped>\n",
       "    .dataframe tbody tr th:only-of-type {\n",
       "        vertical-align: middle;\n",
       "    }\n",
       "\n",
       "    .dataframe tbody tr th {\n",
       "        vertical-align: top;\n",
       "    }\n",
       "\n",
       "    .dataframe thead th {\n",
       "        text-align: right;\n",
       "    }\n",
       "</style>\n",
       "<table border=\"1\" class=\"dataframe\">\n",
       "  <thead>\n",
       "    <tr style=\"text-align: right;\">\n",
       "      <th></th>\n",
       "      <th>Source</th>\n",
       "      <th>SS</th>\n",
       "      <th>DF</th>\n",
       "      <th>MS</th>\n",
       "      <th>F</th>\n",
       "      <th>p-unc</th>\n",
       "      <th>np2</th>\n",
       "    </tr>\n",
       "  </thead>\n",
       "  <tbody>\n",
       "    <tr>\n",
       "      <th>0</th>\n",
       "      <td>channel_name</td>\n",
       "      <td>650.258630</td>\n",
       "      <td>1</td>\n",
       "      <td>650.258630</td>\n",
       "      <td>2.697439</td>\n",
       "      <td>0.101951</td>\n",
       "      <td>0.012222</td>\n",
       "    </tr>\n",
       "    <tr>\n",
       "      <th>1</th>\n",
       "      <td>Within</td>\n",
       "      <td>52552.211722</td>\n",
       "      <td>218</td>\n",
       "      <td>241.065191</td>\n",
       "      <td>NaN</td>\n",
       "      <td>NaN</td>\n",
       "      <td>NaN</td>\n",
       "    </tr>\n",
       "  </tbody>\n",
       "</table>\n",
       "</div>"
      ],
      "text/plain": [
       "         Source            SS   DF          MS         F     p-unc       np2\n",
       "0  channel_name    650.258630    1  650.258630  2.697439  0.101951  0.012222\n",
       "1        Within  52552.211722  218  241.065191       NaN       NaN       NaN"
      ]
     },
     "execution_count": 32,
     "metadata": {},
     "output_type": "execute_result"
    }
   ],
   "source": [
    "aov = pg.anova(data=LIWC_data, dv='Analytic', between='channel_name', detailed=True)\n",
    "aov"
   ]
  },
  {
   "cell_type": "code",
   "execution_count": 33,
   "metadata": {},
   "outputs": [
    {
     "data": {
      "text/html": [
       "<div>\n",
       "<style scoped>\n",
       "    .dataframe tbody tr th:only-of-type {\n",
       "        vertical-align: middle;\n",
       "    }\n",
       "\n",
       "    .dataframe tbody tr th {\n",
       "        vertical-align: top;\n",
       "    }\n",
       "\n",
       "    .dataframe thead th {\n",
       "        text-align: right;\n",
       "    }\n",
       "</style>\n",
       "<table border=\"1\" class=\"dataframe\">\n",
       "  <thead>\n",
       "    <tr style=\"text-align: right;\">\n",
       "      <th></th>\n",
       "      <th>Source</th>\n",
       "      <th>SS</th>\n",
       "      <th>DF</th>\n",
       "      <th>MS</th>\n",
       "      <th>F</th>\n",
       "      <th>p-unc</th>\n",
       "      <th>np2</th>\n",
       "    </tr>\n",
       "  </thead>\n",
       "  <tbody>\n",
       "    <tr>\n",
       "      <th>0</th>\n",
       "      <td>channel_name</td>\n",
       "      <td>332.569896</td>\n",
       "      <td>1</td>\n",
       "      <td>332.569896</td>\n",
       "      <td>3.743189</td>\n",
       "      <td>0.054317</td>\n",
       "      <td>0.016881</td>\n",
       "    </tr>\n",
       "    <tr>\n",
       "      <th>1</th>\n",
       "      <td>Within</td>\n",
       "      <td>19368.572676</td>\n",
       "      <td>218</td>\n",
       "      <td>88.846664</td>\n",
       "      <td>NaN</td>\n",
       "      <td>NaN</td>\n",
       "      <td>NaN</td>\n",
       "    </tr>\n",
       "  </tbody>\n",
       "</table>\n",
       "</div>"
      ],
      "text/plain": [
       "         Source            SS   DF          MS         F     p-unc       np2\n",
       "0  channel_name    332.569896    1  332.569896  3.743189  0.054317  0.016881\n",
       "1        Within  19368.572676  218   88.846664       NaN       NaN       NaN"
      ]
     },
     "execution_count": 33,
     "metadata": {},
     "output_type": "execute_result"
    }
   ],
   "source": [
    "aov = pg.anova(data=LIWC_data, dv='Clout', between='channel_name', detailed=True)\n",
    "aov"
   ]
  },
  {
   "cell_type": "code",
   "execution_count": 34,
   "metadata": {},
   "outputs": [
    {
     "data": {
      "text/html": [
       "<div>\n",
       "<style scoped>\n",
       "    .dataframe tbody tr th:only-of-type {\n",
       "        vertical-align: middle;\n",
       "    }\n",
       "\n",
       "    .dataframe tbody tr th {\n",
       "        vertical-align: top;\n",
       "    }\n",
       "\n",
       "    .dataframe thead th {\n",
       "        text-align: right;\n",
       "    }\n",
       "</style>\n",
       "<table border=\"1\" class=\"dataframe\">\n",
       "  <thead>\n",
       "    <tr style=\"text-align: right;\">\n",
       "      <th></th>\n",
       "      <th>Source</th>\n",
       "      <th>SS</th>\n",
       "      <th>DF</th>\n",
       "      <th>MS</th>\n",
       "      <th>F</th>\n",
       "      <th>p-unc</th>\n",
       "      <th>np2</th>\n",
       "    </tr>\n",
       "  </thead>\n",
       "  <tbody>\n",
       "    <tr>\n",
       "      <th>0</th>\n",
       "      <td>channel_name</td>\n",
       "      <td>140.196507</td>\n",
       "      <td>1</td>\n",
       "      <td>140.196507</td>\n",
       "      <td>0.45708</td>\n",
       "      <td>0.499709</td>\n",
       "      <td>0.002092</td>\n",
       "    </tr>\n",
       "    <tr>\n",
       "      <th>1</th>\n",
       "      <td>Within</td>\n",
       "      <td>66865.471793</td>\n",
       "      <td>218</td>\n",
       "      <td>306.722348</td>\n",
       "      <td>NaN</td>\n",
       "      <td>NaN</td>\n",
       "      <td>NaN</td>\n",
       "    </tr>\n",
       "  </tbody>\n",
       "</table>\n",
       "</div>"
      ],
      "text/plain": [
       "         Source            SS   DF          MS        F     p-unc       np2\n",
       "0  channel_name    140.196507    1  140.196507  0.45708  0.499709  0.002092\n",
       "1        Within  66865.471793  218  306.722348      NaN       NaN       NaN"
      ]
     },
     "execution_count": 34,
     "metadata": {},
     "output_type": "execute_result"
    }
   ],
   "source": [
    "aov = pg.anova(data=LIWC_data, dv='Authentic', between='channel_name', detailed=True)\n",
    "aov"
   ]
  },
  {
   "cell_type": "code",
   "execution_count": 35,
   "metadata": {},
   "outputs": [
    {
     "data": {
      "text/html": [
       "<div>\n",
       "<style scoped>\n",
       "    .dataframe tbody tr th:only-of-type {\n",
       "        vertical-align: middle;\n",
       "    }\n",
       "\n",
       "    .dataframe tbody tr th {\n",
       "        vertical-align: top;\n",
       "    }\n",
       "\n",
       "    .dataframe thead th {\n",
       "        text-align: right;\n",
       "    }\n",
       "</style>\n",
       "<table border=\"1\" class=\"dataframe\">\n",
       "  <thead>\n",
       "    <tr style=\"text-align: right;\">\n",
       "      <th></th>\n",
       "      <th>Source</th>\n",
       "      <th>SS</th>\n",
       "      <th>DF</th>\n",
       "      <th>MS</th>\n",
       "      <th>F</th>\n",
       "      <th>p-unc</th>\n",
       "      <th>np2</th>\n",
       "    </tr>\n",
       "  </thead>\n",
       "  <tbody>\n",
       "    <tr>\n",
       "      <th>0</th>\n",
       "      <td>channel_name</td>\n",
       "      <td>2423.707184</td>\n",
       "      <td>1</td>\n",
       "      <td>2423.707184</td>\n",
       "      <td>5.988168</td>\n",
       "      <td>0.015193</td>\n",
       "      <td>0.026734</td>\n",
       "    </tr>\n",
       "    <tr>\n",
       "      <th>1</th>\n",
       "      <td>Within</td>\n",
       "      <td>88235.365009</td>\n",
       "      <td>218</td>\n",
       "      <td>404.749381</td>\n",
       "      <td>NaN</td>\n",
       "      <td>NaN</td>\n",
       "      <td>NaN</td>\n",
       "    </tr>\n",
       "  </tbody>\n",
       "</table>\n",
       "</div>"
      ],
      "text/plain": [
       "         Source            SS   DF           MS         F     p-unc       np2\n",
       "0  channel_name   2423.707184    1  2423.707184  5.988168  0.015193  0.026734\n",
       "1        Within  88235.365009  218   404.749381       NaN       NaN       NaN"
      ]
     },
     "execution_count": 35,
     "metadata": {},
     "output_type": "execute_result"
    }
   ],
   "source": [
    "aov = pg.anova(data=LIWC_data, dv='Tone', between='channel_name', detailed=True)\n",
    "aov"
   ]
  },
  {
   "cell_type": "code",
   "execution_count": null,
   "metadata": {},
   "outputs": [],
   "source": [
    "cat1 = LIWC_data[LIWC_data['']=='cat1']\n",
    "cat2 = my_data[my_data['Category']=='cat2']\n",
    "\n",
    "ttest_ind(cat1['values'], cat2['values'])"
   ]
  }
 ],
 "metadata": {
  "kernelspec": {
   "display_name": "Python 3",
   "language": "python",
   "name": "python3"
  },
  "language_info": {
   "codemirror_mode": {
    "name": "ipython",
    "version": 3
   },
   "file_extension": ".py",
   "mimetype": "text/x-python",
   "name": "python",
   "nbconvert_exporter": "python",
   "pygments_lexer": "ipython3",
   "version": "3.8.5"
  }
 },
 "nbformat": 4,
 "nbformat_minor": 4
}
